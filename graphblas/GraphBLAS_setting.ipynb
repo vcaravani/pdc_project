{
 "cells": [
  {
   "cell_type": "markdown",
   "metadata": {},
   "source": [
    "# GraphBLAS: settings \n",
    "\n",
    "\n",
    "GrB_init must called before any other GraphBLAS operation. GrB_init defines the mode that GraphBLAS will use: blocking or non-blocking. With blocking mode, all operations finish before returning to the user application. With non-blocking mode, operations can be left pending, and are computed only when needed."
   ]
  },
  {
   "cell_type": "code",
   "execution_count": 6,
   "metadata": {},
   "outputs": [
    {
     "data": {
      "text/plain": [
       "GrB_INVALID_VALUE::GrB_Info = 5"
      ]
     },
     "execution_count": 6,
     "metadata": {},
     "output_type": "execute_result"
    }
   ],
   "source": [
    "using SuiteSparseGraphBLAS, GraphBLASInterface\n",
    "\n",
    "GrB_init(GrB_NONBLOCKING)"
   ]
  },
  {
   "cell_type": "markdown",
   "metadata": {},
   "source": [
    "GrB_finalize must be called as the last GraphBLAS operation. GrB_finalize does not call GrB_wait; any pending computations are abandoned."
   ]
  },
  {
   "cell_type": "code",
   "execution_count": 8,
   "metadata": {},
   "outputs": [
    {
     "data": {
      "text/plain": []
     },
     "execution_count": 8,
     "metadata": {},
     "output_type": "execute_result"
    },
    {
     "name": "stdout",
     "output_type": "stream",
     "text": [
      "GrB_Matrix{Int64}"
     ]
    }
   ],
   "source": [
    "GrB_finalize()"
   ]
  },
  {
   "cell_type": "code",
   "execution_count": 113,
   "metadata": {},
   "outputs": [
    {
     "name": "stdout",
     "output_type": "stream",
     "text": [
      "\n",
      "GraphBLAS matrix: A \n",
      "nrows: 4 ncols: 4 max # entries: 4\n",
      "format: standard CSR vlen: 4 nvec_nonempty: 3 nvec: 4 plen: 4 vdim: 4\n",
      "hyper_ratio 0.0625\n",
      "GraphBLAS type:  int64_t size: 8\n",
      "number of entries: 4 \n",
      "row: 0 : 1 entries [0:0]\n",
      "    column 0: int64 10\n",
      "row: 1 : 1 entries [1:1]\n",
      "    column 2: int64 20\n",
      "row: 3 : 2 entries [2:3]\n",
      "    column 2: int64 40\n",
      "    column 3: int64 30\n",
      "\n"
     ]
    }
   ],
   "source": [
    "A = GrB_Matrix{Int64}()\n",
    "\n",
    "GrB_Matrix_new(A, GrB_INT64, 4, 4)\n",
    "\n",
    "I1 = ZeroBasedIndex[0, 1, 3,3];\n",
    "\n",
    "J1 = ZeroBasedIndex[0, 2, 3,2];\n",
    "\n",
    "X1 = [10, 20, 30, 40,50];\n",
    "\n",
    "n1 = 4;\n",
    "\n",
    "GrB_Matrix_build(A, I1, J1, X1, n1, GrB_FIRST_INT64)\n",
    "\n",
    "@GxB_fprint(A, GxB_COMPLETE)"
   ]
  },
  {
   "cell_type": "code",
   "execution_count": 114,
   "metadata": {},
   "outputs": [
    {
     "name": "stdout",
     "output_type": "stream",
     "text": [
      "\n",
      "GraphBLAS matrix: MAT \n",
      "nrows: 4 ncols: 4 max # entries: 5\n",
      "format: standard CSR vlen: 4 nvec_nonempty: 3 nvec: 4 plen: 4 vdim: 4\n",
      "hyper_ratio 0.0625\n",
      "GraphBLAS type:  int8_t size: 1\n",
      "number of entries: 5 \n",
      "row: 1 : 1 entries [0:0]\n",
      "    column 1: int8 2\n",
      "row: 2 : 3 entries [1:3]\n",
      "    column 1: int8 4\n",
      "    column 2: int8 3\n",
      "    column 3: int8 5\n",
      "row: 3 : 1 entries [4:4]\n",
      "    column 3: int8 6\n",
      "\n"
     ]
    }
   ],
   "source": [
    "MAT = GrB_Matrix{Int8}()\n",
    "\n",
    "GrB_Matrix_new(MAT, GrB_INT8, 4, 4) # Create a new 4x4 matrix\n",
    "\n",
    "I = ZeroBasedIndex[1, 2, 2, 2, 3]; J = ZeroBasedIndex[1, 2, 1, 3, 3]; X = Int8[2, 3, 4, 5, 6]; n = 5;\n",
    "\n",
    "GrB_Matrix_build(MAT, I, J, X, n, GrB_FIRST_INT8)\n",
    "\n",
    "@GxB_fprint(MAT, GxB_COMPLETE)"
   ]
  },
  {
   "cell_type": "markdown",
   "metadata": {},
   "source": [
    "cos'è GrB_first??"
   ]
  },
  {
   "cell_type": "markdown",
   "metadata": {},
   "source": [
    "## Vector_build\n",
    "\n",
    "build a sparse Vector from index value tuples"
   ]
  },
  {
   "cell_type": "code",
   "execution_count": 115,
   "metadata": {},
   "outputs": [
    {
     "name": "stdout",
     "output_type": "stream",
     "text": [
      "\n",
      "GraphBLAS vector: u \n",
      "nrows: 3 ncols: 1 max # entries: 3\n",
      "format: standard CSC vlen: 3 nvec_nonempty: 1 nvec: 1 plen: 1 vdim: 1\n",
      "hyper_ratio 0.0625\n",
      "GraphBLAS type:  int64_t size: 8\n",
      "number of entries: 3 \n",
      "column: 0 : 3 entries [0:2]\n",
      "    row 0: int64 5\n",
      "    row 1: int64 6\n",
      "    row 2: int64 8\n",
      "\n"
     ]
    }
   ],
   "source": [
    "u = GrB_Vector{Int64}()\n",
    "\n",
    "GrB_Vector_new(u, GrB_INT64, 3)\n",
    "\n",
    "I2 = ZeroBasedIndex[0, 1, 2]; X2 = [5, 6, 8]; n2 = 3;\n",
    "\n",
    "GrB_Vector_build(u, I2, X2, n2, GrB_FIRST_INT64)\n",
    "\n",
    "@GxB_fprint(u, GxB_COMPLETE)"
   ]
  },
  {
   "cell_type": "code",
   "execution_count": 116,
   "metadata": {},
   "outputs": [
    {
     "name": "stdout",
     "output_type": "stream",
     "text": [
      "\n",
      "GraphBLAS vector: v \n",
      "nrows: 5 ncols: 1 max # entries: 3\n",
      "format: standard CSC vlen: 5 nvec_nonempty: 1 nvec: 1 plen: 1 vdim: 1\n",
      "hyper_ratio 0.0625\n",
      "GraphBLAS type:  int64_t size: 8\n",
      "number of entries: 3 \n",
      "column: 0 : 3 entries [0:2]\n",
      "    row 1: int64 2\n",
      "    row 2: int64 32\n",
      "    row 4: int64 4\n",
      "\n"
     ]
    }
   ],
   "source": [
    "v = GrB_Vector{Int64}()\n",
    "\n",
    "GrB_Vector_new(v,GrB_INT64,5)\n",
    "\n",
    "I = ZeroBasedIndex[1,2,4]; X = [2,32,4]; n=3\n",
    "\n",
    "GrB_Vector_build(v, I, X, n, GrB_FIRST_INT64)\n",
    "\n",
    "@GxB_fprint(v, GxB_COMPLETE)"
   ]
  },
  {
   "cell_type": "markdown",
   "metadata": {},
   "source": [
    "## Matrix_extractTuples\n",
    "\n",
    "extract the row, column, and value Tuples corresponding to the non-zero elements in a sparse Matrix"
   ]
  },
  {
   "cell_type": "code",
   "execution_count": 146,
   "metadata": {},
   "outputs": [
    {
     "data": {
      "text/plain": [
       "3-element Array{Int64,1}:\n",
       " 10\n",
       " 20\n",
       " 30"
      ]
     },
     "execution_count": 146,
     "metadata": {},
     "output_type": "execute_result"
    }
   ],
   "source": [
    "OUT = GrB_Matrix{Int64}()\n",
    "\n",
    "GrB_Matrix_new(OUT, GrB_INT64, 3, 3)\n",
    "\n",
    "GrB_Matrix_extract(OUT, GrB_NULL, GrB_NULL, A,I1, 3, J1, 3, GrB_NULL)\n",
    "\n",
    "GrB_Matrix_extractTuples(A)[3]\n",
    "\n",
    "#@GxB_fprint(OUT, GxB_COMPLETE)"
   ]
  },
  {
   "cell_type": "markdown",
   "metadata": {},
   "source": [
    "## Vector_extractTuples\n",
    "\n",
    "extract the index and value Tuples corresponding to the non-zero\n",
    "elements in a sparse vector"
   ]
  },
  {
   "cell_type": "code",
   "execution_count": 118,
   "metadata": {},
   "outputs": [
    {
     "name": "stdout",
     "output_type": "stream",
     "text": [
      "\n",
      "GraphBLAS vector: W \n",
      "nrows: 2 ncols: 1 max # entries: 2\n",
      "format: standard CSC vlen: 2 nvec_nonempty: 1 nvec: 1 plen: 1 vdim: 1\n",
      "hyper_ratio 0.0625\n",
      "GraphBLAS type:  int64_t size: 8\n",
      "number of entries: 2 \n",
      "column: 0 : 2 entries [0:1]\n",
      "    row 0: int64 15\n",
      "    row 1: int64 84\n",
      "\n"
     ]
    }
   ],
   "source": [
    "V = GrB_Vector{Int64}()\n",
    "\n",
    "GrB_Vector_new(V, GrB_INT64, 5)\n",
    "\n",
    "I = ZeroBasedIndex[1, 2, 4]; X = [15, 32, 84]; n = 3;\n",
    "\n",
    "GrB_Vector_build(V, I, X, n, GrB_FIRST_INT64)\n",
    "\n",
    "#@GxB_Vector_fprint(V, GxB_COMPLETE)\n",
    "\n",
    "\n",
    "\n",
    "W = GrB_Vector{Int64}()\n",
    "\n",
    "GrB_Vector_new(W, GrB_INT64, 2)\n",
    "\n",
    "GrB_Vector_extract(W, GrB_NULL, GrB_NULL, V, ZeroBasedIndex[1, 4], 2, GrB_NULL)\n",
    "\n",
    "GrB_Vector_extractTuples(W)[2]\n",
    "\n",
    "@GxB_Vector_fprint(W, GxB_COMPLETE)\n",
    "\n"
   ]
  },
  {
   "cell_type": "markdown",
   "metadata": {},
   "source": [
    "## Transpose\n",
    "\n",
    "Flips or transposes the rows and the columns of a sparse matrix"
   ]
  },
  {
   "cell_type": "code",
   "execution_count": 102,
   "metadata": {},
   "outputs": [
    {
     "name": "stdout",
     "output_type": "stream",
     "text": [
      "\n",
      "GraphBLAS matrix: A \n",
      "nrows: 4 ncols: 4 max # entries: 4\n",
      "format: standard CSR vlen: 4 nvec_nonempty: 3 nvec: 4 plen: 4 vdim: 4\n",
      "hyper_ratio 0.0625\n",
      "GraphBLAS type:  int64_t size: 8\n",
      "number of entries: 4 \n",
      "row: 0 : 1 entries [0:0]\n",
      "    column 0: int64 10\n",
      "row: 1 : 1 entries [1:1]\n",
      "    column 2: int64 20\n",
      "row: 3 : 2 entries [2:3]\n",
      "    column 2: int64 40\n",
      "    column 3: int64 30\n",
      "\n",
      "\n",
      "GraphBLAS matrix: M_TRAN \n",
      "nrows: 4 ncols: 4 max # entries: 4\n",
      "format: standard CSR vlen: 4 nvec_nonempty: 3 nvec: 4 plen: 4 vdim: 4\n",
      "hyper_ratio 0.0625\n",
      "GraphBLAS type:  int64_t size: 8\n",
      "number of entries: 4 \n",
      "row: 0 : 1 entries [0:0]\n",
      "    column 0: int64 10\n",
      "row: 2 : 2 entries [1:2]\n",
      "    column 1: int64 20\n",
      "    column 3: int64 40\n",
      "row: 3 : 1 entries [3:3]\n",
      "    column 3: int64 30\n",
      "\n"
     ]
    }
   ],
   "source": [
    "A_TRAN = GrB_Matrix{Int64}()\n",
    "\n",
    "GrB_Matrix_new(A_TRAN, GrB_INT64, 4, 4)\n",
    "\n",
    "GrB_transpose(A_TRAN, GrB_NULL, GrB_NULL, A, GrB_NULL)\n",
    "\n",
    "@GxB_fprint(A, GxB_COMPLETE)\n",
    "\n",
    "@GxB_fprint(A_TRAN, GxB_COMPLETE)"
   ]
  },
  {
   "cell_type": "markdown",
   "metadata": {},
   "source": [
    "## Multiplication"
   ]
  },
  {
   "cell_type": "markdown",
   "metadata": {},
   "source": [
    "### mxm"
   ]
  },
  {
   "cell_type": "code",
   "execution_count": 120,
   "metadata": {},
   "outputs": [
    {
     "name": "stdout",
     "output_type": "stream",
     "text": [
      "\n",
      "GraphBLAS matrix: C \n",
      "nrows: 2 ncols: 2 max # entries: 2\n",
      "format: standard CSR vlen: 2 nvec_nonempty: 2 nvec: 2 plen: 2 vdim: 2\n",
      "hyper_ratio 0.0625\n",
      "GraphBLAS type:  int64_t size: 8\n",
      "last method used for GrB_mxm, vxm, or mxv: heap\n",
      "number of entries: 2 \n",
      "row: 0 : 1 entries [0:0]\n",
      "    column 0: int64 50\n",
      "row: 1 : 1 entries [1:1]\n",
      "    column 1: int64 300\n",
      "\n"
     ]
    }
   ],
   "source": [
    "A = GrB_Matrix{Int64}()\n",
    "GrB_Matrix_new(A, GrB_INT64, 2, 2)\n",
    "I1 = ZeroBasedIndex[0, 1];\n",
    "J1 = ZeroBasedIndex[0, 1];\n",
    "X1 = [10, 20];\n",
    "n1 = 2;\n",
    "\n",
    "GrB_Matrix_build(A, I1, J1, X1, n1, GrB_FIRST_INT64)\n",
    "\n",
    "B = GrB_Matrix{Int64}()\n",
    "\n",
    "\n",
    "GrB_Matrix_new(B, GrB_INT64, 2, 2)\n",
    "\n",
    "\n",
    "I2 = ZeroBasedIndex[0, 1]; J2 = ZeroBasedIndex[0, 1]; X2 = [5, 15]; n2 = 2;\n",
    "\n",
    "GrB_Matrix_build(B, I2, J2, X2, n2, GrB_FIRST_INT64)\n",
    "\n",
    "\n",
    "C = GrB_Matrix{Int64}()\n",
    "\n",
    "GrB_Matrix_new(C, GrB_INT64, 2, 2)\n",
    "\n",
    "GrB_mxm(C, GrB_NULL, GrB_NULL, GxB_PLUS_TIMES_INT64, A, B, GrB_NULL)\n",
    "\n",
    "@GxB_fprint(C, GxB_COMPLETE)"
   ]
  },
  {
   "cell_type": "markdown",
   "metadata": {},
   "source": [
    "### vxm"
   ]
  },
  {
   "cell_type": "code",
   "execution_count": 121,
   "metadata": {},
   "outputs": [
    {
     "name": "stdout",
     "output_type": "stream",
     "text": [
      "\n",
      "GraphBLAS vector: w \n",
      "nrows: 2 ncols: 1 max # entries: 2\n",
      "format: standard CSC vlen: 2 nvec_nonempty: 1 nvec: 1 plen: 1 vdim: 1\n",
      "hyper_ratio 0.0625\n",
      "GraphBLAS type:  int64_t size: 8\n",
      "last method used for GrB_mxm, vxm, or mxv: heap\n",
      "number of entries: 2 \n",
      "column: 0 : 2 entries [0:1]\n",
      "    row 0: int64 50\n",
      "    row 1: int64 120\n",
      "\n"
     ]
    }
   ],
   "source": [
    "u = GrB_Vector{Int64}()\n",
    "\n",
    "GrB_Vector_new(u, GrB_INT64, 2)\n",
    "\n",
    "I2 = ZeroBasedIndex[0, 1]; X2 = [5, 6]; n2 = 2;\n",
    "\n",
    "GrB_Vector_build(u, I2, X2, n2, GrB_FIRST_INT64)\n",
    "\n",
    "w = GrB_Vector{Int64}()\n",
    "\n",
    "GrB_Vector_new(w, GrB_INT64, 2)\n",
    "\n",
    "GrB_vxm(w, GrB_NULL, GrB_NULL, GxB_PLUS_TIMES_INT64, u, A, GrB_NULL)\n",
    "\n",
    "@GxB_fprint(w, GxB_COMPLETE)"
   ]
  },
  {
   "cell_type": "markdown",
   "metadata": {},
   "source": [
    "### mxv"
   ]
  },
  {
   "cell_type": "code",
   "execution_count": 124,
   "metadata": {},
   "outputs": [
    {
     "name": "stdout",
     "output_type": "stream",
     "text": [
      "\n",
      "GraphBLAS vector: w \n",
      "nrows: 2 ncols: 1 max # entries: 2\n",
      "format: standard CSC vlen: 2 nvec_nonempty: 1 nvec: 1 plen: 1 vdim: 1\n",
      "hyper_ratio 0.0625\n",
      "GraphBLAS type:  int64_t size: 8\n",
      "last method used for GrB_mxm, vxm, or mxv: dot\n",
      "number of entries: 2 \n",
      "column: 0 : 2 entries [0:1]\n",
      "    row 0: int64 170\n",
      "    row 1: int64 180\n",
      "\n"
     ]
    }
   ],
   "source": [
    "A = GrB_Matrix{Int64}()\n",
    "\n",
    "GrB_Matrix_new(A, GrB_INT64, 2, 2)\n",
    "\n",
    "I1 = ZeroBasedIndex[0, 0, 1]; J1 = ZeroBasedIndex[0, 1, 1]; X1 = [10, 20, 30]; n1 = 3;\n",
    "\n",
    "GrB_Matrix_build(A, I1, J1, X1, n1, GrB_FIRST_INT64)\n",
    "\n",
    "w = GrB_Vector{Int64}()\n",
    "\n",
    "GrB_Vector_new(w, GrB_INT64, 2)\n",
    "\n",
    "GrB_mxv(w, GrB_NULL, GrB_NULL, GxB_PLUS_TIMES_INT64, A, u, GrB_NULL)\n",
    "\n",
    "@GxB_fprint(w, GxB_COMPLETE)"
   ]
  },
  {
   "cell_type": "markdown",
   "metadata": {},
   "source": [
    "## Extract"
   ]
  },
  {
   "cell_type": "markdown",
   "metadata": {},
   "source": [
    "### submatrix\n",
    "\n",
    "Extract submatrix from a larger matrix"
   ]
  },
  {
   "cell_type": "code",
   "execution_count": 128,
   "metadata": {},
   "outputs": [
    {
     "name": "stdout",
     "output_type": "stream",
     "text": [
      "\n",
      "GraphBLAS matrix: A \n",
      "nrows: 3 ncols: 3 max # entries: 3\n",
      "format: standard CSR vlen: 3 nvec_nonempty: 3 nvec: 3 plen: 3 vdim: 3\n",
      "hyper_ratio 0.0625\n",
      "GraphBLAS type:  int64_t size: 8\n",
      "number of entries: 3 \n",
      "row: 0 : 1 entries [0:0]\n",
      "    column 0: int64 10\n",
      "row: 1 : 1 entries [1:1]\n",
      "    column 1: int64 20\n",
      "row: 2 : 1 entries [2:2]\n",
      "    column 2: int64 30\n",
      "\n"
     ]
    }
   ],
   "source": [
    "A = GrB_Matrix{Int64}()\n",
    "\n",
    "GrB_Matrix_new(A, GrB_INT64, 3, 3)\n",
    "\n",
    "I1 = ZeroBasedIndex[0, 1, 2]; J1 = ZeroBasedIndex[0, 1, 2]; X1 = [10, 20, 30]; n1 = 3;\n",
    "\n",
    "GrB_Matrix_build(A, I1, J1, X1, n1, GrB_FIRST_INT64)\n",
    "\n",
    "@GxB_fprint(A, GxB_COMPLETE)"
   ]
  },
  {
   "cell_type": "code",
   "execution_count": 135,
   "metadata": {},
   "outputs": [
    {
     "name": "stdout",
     "output_type": "stream",
     "text": [
      "\n",
      "GraphBLAS matrix: B \n",
      "nrows: 3 ncols: 3 max # entries: 2\n",
      "format: standard CSR vlen: 3 nvec_nonempty: 2 nvec: 3 plen: 3 vdim: 3\n",
      "hyper_ratio 0.0625\n",
      "GraphBLAS type:  int64_t size: 8\n",
      "number of entries: 2 \n",
      "row: 1 : 1 entries [0:0]\n",
      "    column 1: int64 1\n",
      "row: 2 : 1 entries [1:1]\n",
      "    column 2: int64 1\n",
      "\n"
     ]
    }
   ],
   "source": [
    "B = GrB_Matrix{Int64}()\n",
    "\n",
    "GrB_Matrix_new(B, GrB_INT64, 3, 3)\n",
    "\n",
    "I1 = ZeroBasedIndex[1, 2]; J1 = ZeroBasedIndex[1, 2]; X1 = [1, 1]; n1 = 2;\n",
    "\n",
    "GrB_Matrix_build(B, I1, J1, X1, n1, GrB_FIRST_INT64)\n",
    "\n",
    "@GxB_fprint(B,GxB_COMPLETE)"
   ]
  },
  {
   "cell_type": "code",
   "execution_count": 136,
   "metadata": {},
   "outputs": [
    {
     "name": "stdout",
     "output_type": "stream",
     "text": [
      "\n",
      "GraphBLAS matrix: C \n",
      "nrows: 3 ncols: 3 max # entries: 2\n",
      "format: standard CSR vlen: 3 nvec_nonempty: 2 nvec: 3 plen: 3 vdim: 3\n",
      "hyper_ratio 0.0625\n",
      "GraphBLAS type:  int64_t size: 8\n",
      "last method used for GrB_mxm, vxm, or mxv: heap\n",
      "number of entries: 2 \n",
      "row: 1 : 1 entries [0:0]\n",
      "    column 1: int64 20\n",
      "row: 2 : 1 entries [1:1]\n",
      "    column 2: int64 30\n",
      "\n"
     ]
    }
   ],
   "source": [
    "C = GrB_Matrix{Int64}()\n",
    "\n",
    "GrB_Matrix_new(C, GrB_INT64, 3, 3)\n",
    "\n",
    "GrB_mxm(C, GrB_NULL, GrB_NULL, GxB_PLUS_TIMES_INT64, A, B, GrB_NULL)\n",
    "\n",
    "@GxB_fprint(C, GxB_COMPLETE)"
   ]
  },
  {
   "cell_type": "markdown",
   "metadata": {},
   "source": [
    "## Assign"
   ]
  },
  {
   "cell_type": "markdown",
   "metadata": {},
   "source": [
    "## Element Wise operations"
   ]
  },
  {
   "cell_type": "markdown",
   "metadata": {},
   "source": [
    "## Apply"
   ]
  },
  {
   "cell_type": "markdown",
   "metadata": {},
   "source": [
    "## Reduce"
   ]
  },
  {
   "cell_type": "code",
   "execution_count": null,
   "metadata": {},
   "outputs": [],
   "source": []
  }
 ],
 "metadata": {
  "kernelspec": {
   "display_name": "Julia 1.3.0",
   "language": "julia",
   "name": "julia-1.3"
  },
  "language_info": {
   "file_extension": ".jl",
   "mimetype": "application/julia",
   "name": "julia",
   "version": "1.3.0"
  }
 },
 "nbformat": 4,
 "nbformat_minor": 2
}
