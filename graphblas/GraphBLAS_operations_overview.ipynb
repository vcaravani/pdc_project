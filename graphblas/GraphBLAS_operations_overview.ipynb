{
 "cells": [
  {
   "cell_type": "markdown",
   "metadata": {},
   "source": [
    "# GraphBLAS: operations overview"
   ]
  },
  {
   "cell_type": "code",
   "execution_count": 2,
   "metadata": {},
   "outputs": [
    {
     "data": {
      "text/plain": [
       "GrB_SUCCESS::GrB_Info = 0"
      ]
     },
     "execution_count": 2,
     "metadata": {},
     "output_type": "execute_result"
    }
   ],
   "source": [
    "using SuiteSparseGraphBLAS, GraphBLASInterface\n",
    "\n",
    "GrB_init(GrB_NONBLOCKING)"
   ]
  },
  {
   "cell_type": "markdown",
   "metadata": {},
   "source": [
    "## Matrix_build\n",
    "\n",
    "Build a sparse Matrix from row, column, and value tuples. \n",
    "Example graph operations include: graph construction from a set of starting vertices, ending vertices, and edge\n",
    "weights."
   ]
  },
  {
   "cell_type": "code",
   "execution_count": null,
   "metadata": {},
   "outputs": [],
   "source": [
    "A = GrB_Matrix{Int64}()\n",
    "\n",
    "GrB_Matrix_new(A, GrB_INT64, 4, 4)\n",
    "\n",
    "I1 = ZeroBasedIndex[0, 1, 3,3];\n",
    "\n",
    "J1 = ZeroBasedIndex[0, 2, 3,2];\n",
    "\n",
    "X1 = [10, 20, 30, 40];\n",
    "\n",
    "n1 = 4;\n",
    "\n",
    "GrB_Matrix_build(A, I1, J1, X1, n1, GrB_FIRST_INT64)\n",
    "\n",
    "@GxB_fprint(A, GxB_COMPLETE)"
   ]
  },
  {
   "cell_type": "code",
   "execution_count": null,
   "metadata": {},
   "outputs": [],
   "source": [
    "MAT = GrB_Matrix{Int8}()\n",
    "\n",
    "GrB_Matrix_new(MAT, GrB_INT8, 4, 4) # Create a new 4x4 matrix\n",
    "\n",
    "I = ZeroBasedIndex[1, 2, 2, 2, 3]; J = ZeroBasedIndex[1, 2, 1, 3, 3]; X = Int8[2, 3, 4, 5, 6]; n = 5;\n",
    "\n",
    "GrB_Matrix_build(MAT, I, J, X, n, GrB_FIRST_INT8)\n",
    "\n",
    "@GxB_fprint(MAT, GxB_COMPLETE)"
   ]
  },
  {
   "cell_type": "markdown",
   "metadata": {},
   "source": [
    "cos'è GrB_first??"
   ]
  },
  {
   "cell_type": "markdown",
   "metadata": {},
   "source": [
    "## Vector_build\n",
    "\n",
    "build a sparse Vector from index value tuples"
   ]
  },
  {
   "cell_type": "code",
   "execution_count": null,
   "metadata": {},
   "outputs": [],
   "source": [
    "u = GrB_Vector{Int64}()\n",
    "\n",
    "GrB_Vector_new(u, GrB_INT64, 3)\n",
    "\n",
    "I2 = ZeroBasedIndex[0, 1, 2]; X2 = [5, 6, 8]; n2 = 3;\n",
    "\n",
    "GrB_Vector_build(u, I2, X2, n2, GrB_FIRST_INT64)\n",
    "\n",
    "@GxB_fprint(u, GxB_COMPLETE)"
   ]
  },
  {
   "cell_type": "code",
   "execution_count": null,
   "metadata": {},
   "outputs": [],
   "source": [
    "v = GrB_Vector{Int64}()\n",
    "\n",
    "GrB_Vector_new(v,GrB_INT64,5)\n",
    "\n",
    "I = ZeroBasedIndex[1,2,4]; X = [2,32,4]; n=3\n",
    "\n",
    "GrB_Vector_build(v, I, X, n, GrB_FIRST_INT64)\n",
    "\n",
    "@GxB_fprint(v, GxB_COMPLETE)"
   ]
  },
  {
   "cell_type": "markdown",
   "metadata": {},
   "source": [
    "## Matrix_extractTuples\n",
    "\n",
    "extract the row, column, and value Tuples corresponding to the non-zero elements in a sparse Matrix"
   ]
  },
  {
   "cell_type": "code",
   "execution_count": null,
   "metadata": {},
   "outputs": [],
   "source": [
    "OUT = GrB_Matrix{Int64}()\n",
    "\n",
    "GrB_Matrix_new(OUT, GrB_INT64, 3, 3)\n",
    "\n",
    "GrB_Matrix_extract(OUT, GrB_NULL, GrB_NULL, A,I1, 3, J1, 3, GrB_NULL)\n",
    "\n",
    "GrB_Matrix_extractTuples(A)[3]\n",
    "\n",
    "#@GxB_fprint(OUT, GxB_COMPLETE)"
   ]
  },
  {
   "cell_type": "markdown",
   "metadata": {},
   "source": [
    "## Vector_extractTuples\n",
    "\n",
    "extract the index and value Tuples corresponding to the non-zero\n",
    "elements in a sparse vector"
   ]
  },
  {
   "cell_type": "code",
   "execution_count": null,
   "metadata": {},
   "outputs": [],
   "source": [
    "V = GrB_Vector{Int64}()\n",
    "\n",
    "GrB_Vector_new(V, GrB_INT64, 5)\n",
    "\n",
    "I = ZeroBasedIndex[1, 2, 4]; X = [15, 32, 84]; n = 3;\n",
    "\n",
    "GrB_Vector_build(V, I, X, n, GrB_FIRST_INT64)\n",
    "\n",
    "#@GxB_Vector_fprint(V, GxB_COMPLETE)\n",
    "\n",
    "W = GrB_Vector{Int64}()\n",
    "\n",
    "GrB_Vector_new(W, GrB_INT64, 2)\n",
    "\n",
    "GrB_Vector_extract(W, GrB_NULL, GrB_NULL, V, ZeroBasedIndex[1, 4], 2, GrB_NULL)\n",
    "\n",
    "GrB_Vector_extractTuples(W)[2]\n",
    "\n",
    "#@GxB_Vector_fprint(W, GxB_COMPLETE)"
   ]
  },
  {
   "cell_type": "markdown",
   "metadata": {},
   "source": [
    "## Transpose\n",
    "\n",
    "Flips or transposes the rows and the columns of a sparse matrix"
   ]
  },
  {
   "cell_type": "code",
   "execution_count": null,
   "metadata": {},
   "outputs": [],
   "source": [
    "A_TRAN = GrB_Matrix{Int64}()\n",
    "\n",
    "GrB_Matrix_new(A_TRAN, GrB_INT64, 4, 4)\n",
    "\n",
    "GrB_transpose(A_TRAN, GrB_NULL, GrB_NULL, A, GrB_NULL)\n",
    "\n",
    "@GxB_fprint(A, GxB_COMPLETE)\n",
    "\n",
    "@GxB_fprint(A_TRAN, GxB_COMPLETE)"
   ]
  },
  {
   "cell_type": "markdown",
   "metadata": {},
   "source": [
    "## Multiplication"
   ]
  },
  {
   "cell_type": "markdown",
   "metadata": {},
   "source": [
    "### mxm"
   ]
  },
  {
   "cell_type": "code",
   "execution_count": null,
   "metadata": {},
   "outputs": [],
   "source": [
    "A = GrB_Matrix{Int64}()\n",
    "GrB_Matrix_new(A, GrB_INT64, 2, 2)\n",
    "I1 = ZeroBasedIndex[0, 1];\n",
    "J1 = ZeroBasedIndex[0, 1];\n",
    "X1 = [10, 20];\n",
    "n1 = 2;\n",
    "\n",
    "GrB_Matrix_build(A, I1, J1, X1, n1, GrB_FIRST_INT64)\n",
    "\n",
    "B = GrB_Matrix{Int64}()\n",
    "\n",
    "\n",
    "GrB_Matrix_new(B, GrB_INT64, 2, 2)\n",
    "\n",
    "\n",
    "I2 = ZeroBasedIndex[0, 1]; J2 = ZeroBasedIndex[0, 1]; X2 = [5, 15]; n2 = 2;\n",
    "\n",
    "GrB_Matrix_build(B, I2, J2, X2, n2, GrB_FIRST_INT64)\n",
    "\n",
    "\n",
    "C = GrB_Matrix{Int64}()\n",
    "\n",
    "GrB_Matrix_new(C, GrB_INT64, 2, 2)\n",
    "\n",
    "GrB_mxm(C, GrB_NULL, GrB_NULL, GxB_PLUS_TIMES_INT64, A, B, GrB_NULL)\n",
    "\n",
    "@GxB_fprint(C, GxB_COMPLETE)"
   ]
  },
  {
   "cell_type": "code",
   "execution_count": null,
   "metadata": {},
   "outputs": [],
   "source": [
    "A = GrB_Matrix{Int64}()\n",
    "GrB_Matrix_new(A, GrB_INT64, 2, 2)\n",
    "I1 = ZeroBasedIndex[0, 1];\n",
    "J1 = ZeroBasedIndex[0, 1];\n",
    "X1 = [1, 1];\n",
    "n1 = 2;\n",
    "\n",
    "GrB_Matrix_build(A, I1, J1, X1, n1, GrB_FIRST_INT64)\n",
    "\n",
    "B = GrB_Matrix{Int64}()\n",
    "GrB_Matrix_new(B, GrB_INT64, 2, 2)\n",
    "I2 = ZeroBasedIndex[0, 1]; J2 = ZeroBasedIndex[0, 1]; X2 = [0, 1]; n2 = 2;\n",
    "\n",
    "GrB_Matrix_build(B, I2, J2, X2, n2, GrB_FIRST_INT64)\n",
    "\n",
    "\n",
    "C = GrB_Matrix{Int64}()\n",
    "GrB_Matrix_new(C, GrB_INT64, 2, 2)\n",
    "\n",
    "Mask = GrB_Matrix{Bool}()\n",
    "GrB_Matrix_new(Mask, GrB_BOOL, 2, 2)\n",
    "\n",
    "GrB_mxm(C, Mask, GrB_NULL, GxB_PLUS_TIMES_INT64, A, B, GrB_NULL)\n",
    "\n",
    "@GxB_fprint(C, GxB_COMPLETE)"
   ]
  },
  {
   "cell_type": "markdown",
   "metadata": {},
   "source": [
    "### vxm"
   ]
  },
  {
   "cell_type": "code",
   "execution_count": null,
   "metadata": {},
   "outputs": [],
   "source": [
    "u = GrB_Vector{Int64}()\n",
    "\n",
    "GrB_Vector_new(u, GrB_INT64, 2)\n",
    "\n",
    "I2 = ZeroBasedIndex[0, 1]; X2 = [5, 6]; n2 = 2;\n",
    "\n",
    "GrB_Vector_build(u, I2, X2, n2, GrB_FIRST_INT64)\n",
    "\n",
    "w = GrB_Vector{Int64}()\n",
    "\n",
    "GrB_Vector_new(w, GrB_INT64, 2)\n",
    "\n",
    "GrB_vxm(w, GrB_NULL, GrB_NULL, GxB_PLUS_TIMES_INT64, u, A, GrB_NULL)\n",
    "\n",
    "@GxB_fprint(w, GxB_COMPLETE)"
   ]
  },
  {
   "cell_type": "markdown",
   "metadata": {},
   "source": [
    "### mxv"
   ]
  },
  {
   "cell_type": "code",
   "execution_count": null,
   "metadata": {},
   "outputs": [],
   "source": [
    "A = GrB_Matrix{Int64}()\n",
    "\n",
    "GrB_Matrix_new(A, GrB_INT64, 2, 2)\n",
    "\n",
    "I1 = ZeroBasedIndex[0, 0, 1]; J1 = ZeroBasedIndex[0, 1, 1]; X1 = [10, 20, 30]; n1 = 3;\n",
    "\n",
    "GrB_Matrix_build(A, I1, J1, X1, n1, GrB_FIRST_INT64)\n",
    "\n",
    "w = GrB_Vector{Int64}()\n",
    "\n",
    "GrB_Vector_new(w, GrB_INT64, 2)\n",
    "\n",
    "GrB_mxv(w, GrB_NULL, GrB_NULL, GxB_PLUS_TIMES_INT64, A, u, GrB_NULL)\n",
    "\n",
    "@GxB_fprint(w, GxB_COMPLETE)"
   ]
  },
  {
   "cell_type": "markdown",
   "metadata": {},
   "source": [
    "## Extract"
   ]
  },
  {
   "cell_type": "markdown",
   "metadata": {},
   "source": [
    "### submatrix\n",
    "\n",
    "Extract submatrix from a larger matrix"
   ]
  },
  {
   "cell_type": "code",
   "execution_count": null,
   "metadata": {},
   "outputs": [],
   "source": [
    "A = GrB_Matrix{Int64}()\n",
    "\n",
    "GrB_Matrix_new(A, GrB_INT64, 3, 3)\n",
    "\n",
    "I1 = ZeroBasedIndex[0, 1, 2]; J1 = ZeroBasedIndex[0, 1, 2]; X1 = [10, 20, 30]; n1 = 3;\n",
    "\n",
    "GrB_Matrix_build(A, I1, J1, X1, n1, GrB_FIRST_INT64)\n",
    "\n",
    "@GxB_fprint(A, GxB_COMPLETE)"
   ]
  },
  {
   "cell_type": "code",
   "execution_count": null,
   "metadata": {},
   "outputs": [],
   "source": [
    "B = GrB_Matrix{Int64}()\n",
    "\n",
    "GrB_Matrix_new(B, GrB_INT64, 3, 3)\n",
    "\n",
    "I1 = ZeroBasedIndex[1, 2]; J1 = ZeroBasedIndex[1, 2]; X1 = [1, 1]; n1 = 2;\n",
    "\n",
    "GrB_Matrix_build(B, I1, J1, X1, n1, GrB_FIRST_INT64)\n",
    "\n",
    "@GxB_fprint(B,GxB_COMPLETE)"
   ]
  },
  {
   "cell_type": "code",
   "execution_count": null,
   "metadata": {},
   "outputs": [],
   "source": [
    "C = GrB_Matrix{Int64}()\n",
    "\n",
    "GrB_Matrix_new(C, GrB_INT64, 3, 3)\n",
    "\n",
    "GrB_mxm(C, GrB_NULL, GrB_NULL, GxB_PLUS_TIMES_INT64, A, B, GrB_NULL)\n",
    "\n",
    "@GxB_fprint(C, GxB_COMPLETE)"
   ]
  },
  {
   "cell_type": "markdown",
   "metadata": {},
   "source": [
    "## Assign"
   ]
  },
  {
   "cell_type": "markdown",
   "metadata": {},
   "source": [
    "#### vector"
   ]
  },
  {
   "cell_type": "code",
   "execution_count": null,
   "metadata": {},
   "outputs": [],
   "source": [
    "w = GrB_Vector{Int64}()\n",
    "\n",
    "GrB_Vector_new(w, GrB_INT64, 5)\n",
    "\n",
    "u = GrB_Vector{Float64}()\n",
    "\n",
    "GrB_Vector_new(u, GrB_FP64, 4)\n",
    "\n",
    "I = ZeroBasedIndex[0, 1]; X = [10, 20]; n = 2;\n",
    "\n",
    "GrB_Vector_build(u, I, X, n, GrB_FIRST_INT64)\n",
    "\n",
    "GrB_Vector_assign(w, GrB_NULL, GrB_NULL, u, [2, 4], 2, GrB_NULL)\n",
    "\n",
    "#GrB_Vector_extractTuples(w)"
   ]
  },
  {
   "cell_type": "markdown",
   "metadata": {},
   "source": [
    "#### matrix"
   ]
  },
  {
   "cell_type": "code",
   "execution_count": null,
   "metadata": {},
   "outputs": [],
   "source": [
    "A = GrB_Matrix{Int64}()\n",
    "\n",
    "GrB_Matrix_new(A, GrB_INT64, 4, 4)\n",
    "\n",
    "I = ZeroBasedIndex[0, 0, 2, 2]; J = ZeroBasedIndex[1, 2, 0, 2]; X = [10, 20, 30, 40]; n = 4;\n",
    "\n",
    "GrB_Matrix_build(A, I, J, X, n, GrB_FIRST_INT64)\n",
    "\n",
    "C = GrB_Matrix{Int64}()\n",
    "\n",
    "GrB_Matrix_new(C, GrB_INT64, 4, 4)\n",
    "\n",
    "GrB_Matrix_assign(C, GrB_NULL, GrB_NULL, A, GrB_ALL, 4, GrB_ALL, 4, GrB_NULL)\n"
   ]
  },
  {
   "cell_type": "markdown",
   "metadata": {},
   "source": [
    "## Element-Wise operations"
   ]
  },
  {
   "cell_type": "markdown",
   "metadata": {},
   "source": [
    "### eWise Multiplication"
   ]
  },
  {
   "cell_type": "markdown",
   "metadata": {},
   "source": [
    "#### vector"
   ]
  },
  {
   "cell_type": "markdown",
   "metadata": {},
   "source": [
    "#### matrix"
   ]
  },
  {
   "cell_type": "code",
   "execution_count": null,
   "metadata": {},
   "outputs": [],
   "source": [
    "#A = GrB_Matrix{Int64}()\n",
    "#GrB_Matrix_new(A, GrB_INT64, 4, 4)\n",
    "#I1 = ZeroBasedIndex[0, 1, 2, 3]; J1 = ZeroBasedIndex[0, 1, 2, 3]; X1 = [10, 20, 30, 40]; n1 = 4;\n",
    "#GrB_Matrix_build(A, I1, J1, X1, n1, GrB_FIRST_INT64)\n",
    "A = GrB_Matrix(ZeroBasedIndex.([0, 1, 2, 3]), ZeroBasedIndex.([0, 1, 2, 3]), [2, 1, 30.0, 40.0])\n",
    "\n",
    "B = GrB_Matrix(ZeroBasedIndex.([0, 1, 2, 3]), ZeroBasedIndex.([0, 1, 2, 3]), [0.5, 0.5, 0.5, 0.5])\n",
    "\n",
    "C = GrB_Matrix{Float64}()\n",
    "GrB_Matrix_new(C, GrB_FP64, 4, 4)\n",
    "\n",
    "#=\n",
    "B = GrB_Matrix{Int64}()\n",
    "GrB_Matrix_new(B, GrB_INT64, 4, 4)\n",
    "I2 = ZeroBasedIndex[0, 1, 2, 3]; J2 = ZeroBasedIndex[0, 1, 2, 3]; X2 = [0.5, 0.5, 0.5, 0.5]; n2 = 4;\n",
    "GrB_Matrix_build(B, I2, J2, X2, n2, GrB_FIRST_INT64);\n",
    "\n",
    "C = GrB_Matrix{Int64}()\n",
    "GrB_Matrix_new(C, GrB_INT64, 4, 4)\n",
    "=#"
   ]
  },
  {
   "cell_type": "code",
   "execution_count": 5,
   "metadata": {},
   "outputs": [
    {
     "data": {
      "text/plain": [
       "GrB_SUCCESS::GrB_Info = 0"
      ]
     },
     "execution_count": 5,
     "metadata": {},
     "output_type": "execute_result"
    }
   ],
   "source": [
    "function integer_division(a)\n",
    "    return a ÷ 2\n",
    "end\n",
    "\n",
    "INTDIV_BYTWO = GrB_UnaryOp()\n",
    "GrB_UnaryOp_new(INTDIV_BYTWO, integer_division, GrB_INT64, GrB_INT64)"
   ]
  },
  {
   "cell_type": "code",
   "execution_count": 6,
   "metadata": {},
   "outputs": [
    {
     "name": "stdout",
     "output_type": "stream",
     "text": [
      "\n",
      "GraphBLAS matrix: B \n",
      "nrows: 2 ncols: 2 max # entries: 3\n",
      "format: standard CSR vlen: 2 nvec_nonempty: 2 nvec: 2 plen: 2 vdim: 2\n",
      "hyper_ratio 0.0625\n",
      "GraphBLAS type:  int64_t size: 8\n",
      "number of entries: 3 \n",
      "row: 0 : 2 entries [0:1]\n",
      "    column 0: int64 5\n",
      "    column 1: int64 10\n",
      "row: 1 : 1 entries [2:2]\n",
      "    column 1: int64 15\n",
      "\n"
     ]
    }
   ],
   "source": [
    "A = GrB_Matrix{Int64}()\n",
    "GrB_Matrix_new(A, GrB_INT64, 2, 2)\n",
    "\n",
    "I = ZeroBasedIndex[0, 0, 1]; J = ZeroBasedIndex[0, 1, 1]; X = [10, 20, 30]; n = 3;\n",
    "GrB_Matrix_build(A, I, J, X, n, GrB_FIRST_INT64)\n",
    "\n",
    "B = GrB_Matrix{Int64}()\n",
    "\n",
    "GrB_Matrix_new(B, GrB_INT64, 2, 2)\n",
    "\n",
    "GrB_Matrix_apply(B, GrB_NULL, GrB_NULL, INTDIV_BYTWO, A, GrB_NULL)\n",
    "\n",
    "@GxB_fprint(B, GxB_COMPLETE)"
   ]
  },
  {
   "cell_type": "code",
   "execution_count": null,
   "metadata": {},
   "outputs": [],
   "source": [
    "GrB_eWiseMult_Matrix_Semiring(C, GrB_NULL, GrB_NULL, GxB_PLUS_TIMES_FP64, A, B, GrB_NULL)\n",
    "\n",
    "@GxB_fprint(C, GxB_COMPLETE)"
   ]
  },
  {
   "cell_type": "code",
   "execution_count": null,
   "metadata": {},
   "outputs": [],
   "source": [
    "GrB_eWiseMult_Matrix_Monoid(C, GrB_NULL, GrB_NULL, GxB_PLUS_INT64_MONOID, A, B, GrB_NULL)\n",
    "\n",
    "@GxB_fprint(C, GxB_COMPLETE)"
   ]
  },
  {
   "cell_type": "code",
   "execution_count": null,
   "metadata": {},
   "outputs": [],
   "source": [
    "GrB_eWiseMult_Matrix_BinaryOp(C, GrB_NULL, GrB_NULL, GrB_MAX_INT64, A, B, GrB_NULL)\n",
    "\n",
    "@GxB_fprint(C, GxB_COMPLETE)"
   ]
  },
  {
   "cell_type": "markdown",
   "metadata": {},
   "source": [
    "### eWise Addition"
   ]
  },
  {
   "cell_type": "markdown",
   "metadata": {},
   "source": [
    "#### vector"
   ]
  },
  {
   "cell_type": "code",
   "execution_count": null,
   "metadata": {},
   "outputs": [],
   "source": [
    "u = GrB_Vector{Int64}()\n",
    "\n",
    "GrB_Vector_new(u, GrB_INT64, 5)\n",
    "\n",
    "I1 = ZeroBasedIndex[0, 2, 4]; X1 = [10, 20, 3]; n1 = 3;\n",
    "\n",
    "GrB_Vector_build(u, I1, X1, n1, GrB_FIRST_INT64)\n",
    "\n",
    "v = GrB_Vector{Float64}()\n",
    "\n",
    "GrB_Vector_new(v, GrB_FP64, 5)\n",
    "\n",
    "I2 = ZeroBasedIndex[0, 1, 4]; X2 = [1.1, 2.2, 3.3]; n2 = 3;\n",
    "\n",
    "GrB_Vector_build(v, I2, X2, n2, GrB_FIRST_FP64)\n",
    "\n",
    "w = GrB_Vector{Float64}()\n",
    "\n",
    "GrB_Vector_new(w, GrB_FP64, 5)\n",
    "\n",
    "GrB_eWiseAdd_Vector_Semiring(w, GrB_NULL, GrB_NULL, GxB_PLUS_TIMES_FP64, u, v, GrB_NULL)\n",
    "# GrB_eWiseAdd_Vector_Monoid(w, GrB_NULL, GrB_NULL, GxB_MAX_FP64_MONOID, u, v, GrB_NULL)\n",
    "# GrB_eWiseAdd_Vector_BinaryOp(w, GrB_NULL, GrB_NULL, GrB_PLUS_FP64, u, v, GrB_NULL)\n",
    "\n",
    "\n",
    "@GxB_fprint(w, GxB_COMPLETE)"
   ]
  },
  {
   "cell_type": "markdown",
   "metadata": {},
   "source": [
    "## Apply"
   ]
  },
  {
   "cell_type": "code",
   "execution_count": null,
   "metadata": {},
   "outputs": [],
   "source": [
    "u = GrB_Vector{Int64}()\n",
    "\n",
    "GrB_Vector_new(u, GrB_INT64, 3)\n",
    "\n",
    "I = ZeroBasedIndex[0, 2]; X = [10, 20]; n = 2;\n",
    "\n",
    "GrB_Vector_build(u, I, X, n, GrB_FIRST_INT64)\n",
    "\n",
    "w = GrB_Vector{Int64}()\n",
    "\n",
    "GrB_Vector_new(w, GrB_INT64, 3)\n",
    "\n",
    "GrB_Vector_apply(w, GrB_NULL, GrB_NULL, GrB_AINV_INT64, u, GrB_NULL)\n",
    "\n",
    "@GxB_fprint(w, GxB_COMPLETE)"
   ]
  },
  {
   "cell_type": "code",
   "execution_count": null,
   "metadata": {},
   "outputs": [],
   "source": [
    "A = GrB_Matrix{Int64}()\n",
    "\n",
    "GrB_Matrix_new(A, GrB_INT64, 2, 2)\n",
    "\n",
    "I = ZeroBasedIndex[0, 0, 1]; J = ZeroBasedIndex[0, 1, 1]; X = [10, 20, 30]; n = 3;\n",
    "\n",
    "GrB_Matrix_build(A, I, J, X, n, GrB_FIRST_INT64)\n",
    "\n",
    "B = GrB_Matrix{Int64}()\n",
    "\n",
    "GrB_Matrix_new(B, GrB_INT64, 2, 2)\n",
    "\n",
    "GrB_Matrix_apply(B, GrB_NULL, GrB_NULL, GrB_AINV_INT64, A, GrB_NULL)\n",
    "\n",
    "@GxB_fprint(B, GxB_COMPLETE)"
   ]
  },
  {
   "cell_type": "markdown",
   "metadata": {},
   "source": [
    "## Reduce"
   ]
  },
  {
   "cell_type": "code",
   "execution_count": null,
   "metadata": {},
   "outputs": [],
   "source": [
    "u = GrB_Vector{Int64}()\n",
    "\n",
    "GrB_Vector_new(u, GrB_INT64, 5)\n",
    "\n",
    "I = ZeroBasedIndex[0, 2, 4]; X = [10, 20, 30]; n = 3;\n",
    "\n",
    "GrB_Vector_build(u, I, X, n, GrB_FIRST_INT64)\n",
    "\n",
    "GrB_Vector_reduce(GxB_MAX_INT64_MONOID, u, GrB_NULL)"
   ]
  },
  {
   "cell_type": "code",
   "execution_count": null,
   "metadata": {},
   "outputs": [],
   "source": [
    "A = GrB_Matrix{Int64}()\n",
    "\n",
    "GrB_Matrix_new(A, GrB_INT64, 4, 4)\n",
    "\n",
    "I = ZeroBasedIndex[0, 0, 2, 2]; J = ZeroBasedIndex[1, 2, 0, 2]; X = [10, 20, 30, 40]; n = 4;\n",
    "\n",
    "GrB_Matrix_build(A, I, J, X, n, GrB_FIRST_INT64)\n",
    "\n",
    "GrB_Matrix_reduce(GxB_MIN_INT64_MONOID, A, GrB_NULL)"
   ]
  }
 ],
 "metadata": {
  "kernelspec": {
   "display_name": "Julia 1.3.0",
   "language": "julia",
   "name": "julia-1.3"
  },
  "language_info": {
   "file_extension": ".jl",
   "mimetype": "application/julia",
   "name": "julia",
   "version": "1.3.0"
  }
 },
 "nbformat": 4,
 "nbformat_minor": 2
}
